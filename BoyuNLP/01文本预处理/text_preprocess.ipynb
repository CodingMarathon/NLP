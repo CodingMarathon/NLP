{
 "cells": [
  {
   "cell_type": "code",
   "execution_count": 1,
   "metadata": {},
   "outputs": [],
   "source": [
    "# clean data for poems"
   ]
  },
  {
   "cell_type": "code",
   "execution_count": 2,
   "metadata": {},
   "outputs": [],
   "source": [
    "import json"
   ]
  },
  {
   "cell_type": "code",
   "execution_count": 4,
   "metadata": {},
   "outputs": [
    {
     "name": "stdout",
     "output_type": "stream",
     "text": [
      "{'author': '王維', 'paragraphs': ['古墓成蒼嶺，幽宮象紫臺。', '星辰七曜隔，河漢九泉開。', '有海人寧渡，無春雁不廻。', '更聞松韻切，疑是大夫哀。'], 'strains': ['仄仄平平仄，平平仄仄平。', '平平仄仄仄，平仄仄平平。', '仄仄平平仄，平平仄仄平。', '平平平仄仄，平仄仄平平。'], 'title': '過始皇墓'}\n",
      "<class 'dict'>\n"
     ]
    }
   ],
   "source": [
    "poems = []\n",
    "with open(\"./input/poem.json\",\"r\",encoding='utf-8') as load_file:\n",
    "    poems = json.load(load_file)\n",
    "    print(poems[42])\n",
    "    print(type(poems[42]))"
   ]
  },
  {
   "cell_type": "code",
   "execution_count": 5,
   "metadata": {},
   "outputs": [
    {
     "name": "stdout",
     "output_type": "stream",
     "text": [
      "<class 'list'>\n"
     ]
    }
   ],
   "source": [
    "print(type(poems[42][\"paragraphs\"]))"
   ]
  },
  {
   "cell_type": "code",
   "execution_count": 6,
   "metadata": {},
   "outputs": [
    {
     "name": "stdout",
     "output_type": "stream",
     "text": [
      "<class 'list'>\n"
     ]
    }
   ],
   "source": [
    "print(type(poems))"
   ]
  },
  {
   "cell_type": "code",
   "execution_count": 7,
   "metadata": {},
   "outputs": [],
   "source": [
    "poems_processed = []\n",
    "for poem in poems:\n",
    "    for sentence in poem['paragraphs']:\n",
    "        if '，' not in sentence:\n",
    "            continue\n",
    "        if not len(sentence) == 12:\n",
    "            continue\n",
    "        s1, s2 = sentence.split('，')\n",
    "        poems_processed.append(s1)\n",
    "        poems_processed.append(s2[:-1])"
   ]
  },
  {
   "cell_type": "code",
   "execution_count": 8,
   "metadata": {},
   "outputs": [
    {
     "name": "stdout",
     "output_type": "stream",
     "text": [
      "['畫樓吹笛妓', '金椀酒家胡', '錦石稱貞女', '青松學大夫', '脫貂貰桂醑', '射雁與山廚', '聞道高陽會', '愚公谷正愚', '巖壑轉微逕', '雲林隱法堂', '羽人飛奏樂', '天女跪焚香', '竹外峰偏曙', '藤陰水更涼', '欲知禪坐久', '行路長春芳', '不知香積寺', '數里入雲峰', '古木無人逕', '深山何處鐘']\n"
     ]
    }
   ],
   "source": [
    "print(poems_processed[:20])"
   ]
  },
  {
   "cell_type": "code",
   "execution_count": 9,
   "metadata": {},
   "outputs": [],
   "source": [
    "import jieba \n",
    "import itertools\n",
    "from collections import Counter"
   ]
  },
  {
   "cell_type": "code",
   "execution_count": 10,
   "metadata": {},
   "outputs": [
    {
     "name": "stdout",
     "output_type": "stream",
     "text": [
      "接下来，莫沃维奇和关一帆又发现了一件令他们激动的事情：他们能看到星空，在各个方向上都能看到。他们清楚地看见，在宇宙的永恒之夜中，银河系在灿烂地延伸着。他们知道自己此时仍身处飞船中，三人都没有穿宇宙服，都在呼吸着飞船中的空气，但在第四个维度上，他们暴露在太空中。作为宇航员，三个人都曾经历过无数次太空行走，但从未感觉到自己在太空中暴露得这样彻底。以往太空行走时，他们至少包裹在宇宙服中，而现在，没有任何东西挡在他们和宇宙之间，周围这展现出无限细节的飞船对星空没有丝毫遮挡，在第四维度上，整个宇宙与飞船也是并列的。\n"
     ]
    }
   ],
   "source": [
    "text = '接下来，莫沃维奇和关一帆又发现了一件令他们激动的事情：他们能看到星空，在各个方向上都能看到。他们清楚地看见，在宇宙的永恒之夜中，银河系在灿烂地延伸着。他们知道自己此时仍身处飞船中，三人都没有穿宇宙服，都在呼吸着飞船中的空气，但在第四个维度上，他们暴露在太空中。作为宇航员，三个人都曾经历过无数次太空行走，但从未感觉到自己在太空中暴露得这样彻底。以往太空行走时，他们至少包裹在宇宙服中，而现在，没有任何东西挡在他们和宇宙之间，周围这展现出无限细节的飞船对星空没有丝毫遮挡，在第四维度上，整个宇宙与飞船也是并列的。'\n",
    "print(text)"
   ]
  },
  {
   "cell_type": "code",
   "execution_count": 11,
   "metadata": {},
   "outputs": [
    {
     "name": "stderr",
     "output_type": "stream",
     "text": [
      "Building prefix dict from the default dictionary ...\n",
      "Loading model from cache C:\\Users\\ELENST~1\\AppData\\Local\\Temp\\jieba.cache\n",
      "Loading model cost 0.866 seconds.\n",
      "Prefix dict has been built successfully.\n"
     ]
    },
    {
     "name": "stdout",
     "output_type": "stream",
     "text": [
      "接下来 ， 莫沃 维奇 和 关一帆 又 发现 了 一件 令 他们 激动 的 事情 ： 他们 能 看到 星空 ， 在 各个 方向 上 都 能 看到 。 他们 清楚 地 看见 ， 在 宇宙 的 永恒 之 夜中 ， 银河系 在 灿烂 地 延伸 着 。 他们 知道 自己 此时 仍 身处 飞船 中 ， 三人 都 没有 穿 宇宙服 ， 都 在 呼吸 着 飞船 中 的 空气 ， 但 在 第四个 维度 上 ， 他们 暴露 在 太空 中 。 作为 宇航员 ， 三个 人 都 曾 经历 过 无数次 太空行走 ， 但 从未 感觉 到 自己 在 太空 中 暴露 得 这样 彻底 。 以往 太空行走 时 ， 他们 至少 包裹 在 宇宙服 中 ， 而 现在 ， 没有 任何 东西 挡 在 他们 和 宇宙 之间 ， 周围 这 展现出 无限 细节 的 飞船 对 星空 没有 丝毫 遮挡 ， 在 第四 维度 上 ， 整个 宇宙 与 飞船 也 是 并列 的 。\n"
     ]
    }
   ],
   "source": [
    "text_cut = jieba.cut(text)\n",
    "text_cut = ' '.join(text_cut)\n",
    "print(text_cut)"
   ]
  },
  {
   "cell_type": "code",
   "execution_count": 12,
   "metadata": {},
   "outputs": [
    {
     "name": "stdout",
     "output_type": "stream",
     "text": [
      "1 233 666 4 5\n"
     ]
    }
   ],
   "source": [
    "#将列表中的字符变成空格隔开的字符串\n",
    "l = ['1', '233', '666', '4', '5']\n",
    "print(' '.join(l))"
   ]
  },
  {
   "cell_type": "code",
   "execution_count": 13,
   "metadata": {},
   "outputs": [
    {
     "data": {
      "text/plain": [
       "1"
      ]
     },
     "execution_count": 13,
     "metadata": {},
     "output_type": "execute_result"
    }
   ],
   "source": [
    "jieba.suggest_freq(\"莫沃维奇\", True)"
   ]
  },
  {
   "cell_type": "code",
   "execution_count": 14,
   "metadata": {},
   "outputs": [
    {
     "name": "stdout",
     "output_type": "stream",
     "text": [
      "接下来/，/莫沃维奇/和/关一帆/又/发现/了/一件/令/他们/激动/的/事情/：/他们/能/看到/星空/，/在/各个/方向/上/都/能/看到/。/他们/清楚/地/看见/，/在/宇宙/的/永恒/之/夜中/，/银河系/在/灿烂/地/延伸/着/。/他们/知道/自己/此时/仍/身处/飞船/中/，/三人/都/没有/穿/宇宙服/，/都/在/呼吸/着/飞船/中/的/空气/，/但/在/第四个/维度/上/，/他们/暴露/在/太空/中/。/作为/宇航员/，/三个/人/都/曾/经历/过/无数次/太空行走/，/但/从未/感觉/到/自己/在/太空/中/暴露/得/这样/彻底/。/以往/太空行走/时/，/他们/至少/包裹/在/宇宙服/中/，/而/现在/，/没有/任何/东西/挡/在/他们/和/宇宙/之间/，/周围/这/展现出/无限/细节/的/飞船/对/星空/没有/丝毫/遮挡/，/在/第四/维度/上/，/整个/宇宙/与/飞船/也/是/并列/的/。\n",
      "<class 'str'>\n"
     ]
    }
   ],
   "source": [
    "text_cut = jieba.cut(text)\n",
    "text_cut = '/'.join(text_cut)\n",
    "print(text_cut)\n",
    "print(type(text_cut))"
   ]
  },
  {
   "cell_type": "code",
   "execution_count": 15,
   "metadata": {},
   "outputs": [],
   "source": [
    "def build_vocab(text, vocab_lim):\n",
    "    word_cnt = Counter(text)\n",
    "    vocab_inv = [x[0] for x in word_cnt.most_common(vocab_lim)]\n",
    "    vocab = {x: index for index, x in enumerate(vocab_inv)}\n",
    "    return vocab, vocab_inv"
   ]
  },
  {
   "cell_type": "code",
   "execution_count": 16,
   "metadata": {},
   "outputs": [
    {
     "name": "stdout",
     "output_type": "stream",
     "text": [
      "['接下来', '，', '莫沃维奇', '和', '关一帆', '又', '发现', '了', '一件', '令', '他们', '激动', '的', '事情', '：', '他们', '能', '看到', '星空', '，', '在', '各个', '方向', '上', '都', '能', '看到', '。', '他们', '清楚', '地', '看见', '，', '在', '宇宙', '的', '永恒', '之', '夜中', '，', '银河系', '在', '灿烂', '地', '延伸', '着', '。', '他们', '知道', '自己', '此时', '仍', '身处', '飞船', '中', '，', '三人', '都', '没有', '穿', '宇宙服', '，', '都', '在', '呼吸', '着', '飞船', '中', '的', '空气', '，', '但', '在', '第四个', '维度', '上', '，', '他们', '暴露', '在', '太空', '中', '。', '作为', '宇航员', '，', '三个', '人', '都', '曾', '经历', '过', '无数次', '太空行走', '，', '但', '从未', '感觉', '到', '自己', '在', '太空', '中', '暴露', '得', '这样', '彻底', '。', '以往', '太空行走', '时', '，', '他们', '至少', '包裹', '在', '宇宙服', '中', '，', '而', '现在', '，', '没有', '任何', '东西', '挡', '在', '他们', '和', '宇宙', '之间', '，', '周围', '这', '展现出', '无限', '细节', '的', '飞船', '对', '星空', '没有', '丝毫', '遮挡', '，', '在', '第四', '维度', '上', '，', '整个', '宇宙', '与', '飞船', '也', '是', '并列', '的', '。']\n"
     ]
    }
   ],
   "source": [
    "text_cut_list = text_cut.split('/')\n",
    "print(text_cut_list)"
   ]
  },
  {
   "cell_type": "code",
   "execution_count": 17,
   "metadata": {},
   "outputs": [],
   "source": [
    "vocab, vocab_inv = build_vocab(text_cut_list, 4000)"
   ]
  },
  {
   "cell_type": "code",
   "execution_count": 18,
   "metadata": {},
   "outputs": [
    {
     "name": "stdout",
     "output_type": "stream",
     "text": [
      "{'，': 0, '在': 1, '他们': 2, '的': 3, '。': 4, '中': 5, '都': 6, '飞船': 7, '上': 8, '宇宙': 9, '没有': 10, '和': 11, '能': 12, '看到': 13, '星空': 14, '地': 15, '着': 16, '自己': 17, '宇宙服': 18, '但': 19, '维度': 20, '暴露': 21, '太空': 22, '太空行走': 23, '接下来': 24, '莫沃维奇': 25, '关一帆': 26, '又': 27, '发现': 28, '了': 29, '一件': 30, '令': 31, '激动': 32, '事情': 33, '：': 34, '各个': 35, '方向': 36, '清楚': 37, '看见': 38, '永恒': 39, '之': 40, '夜中': 41, '银河系': 42, '灿烂': 43, '延伸': 44, '知道': 45, '此时': 46, '仍': 47, '身处': 48, '三人': 49, '穿': 50, '呼吸': 51, '空气': 52, '第四个': 53, '作为': 54, '宇航员': 55, '三个': 56, '人': 57, '曾': 58, '经历': 59, '过': 60, '无数次': 61, '从未': 62, '感觉': 63, '到': 64, '得': 65, '这样': 66, '彻底': 67, '以往': 68, '时': 69, '至少': 70, '包裹': 71, '而': 72, '现在': 73, '任何': 74, '东西': 75, '挡': 76, '之间': 77, '周围': 78, '这': 79, '展现出': 80, '无限': 81, '细节': 82, '对': 83, '丝毫': 84, '遮挡': 85, '第四': 86, '整个': 87, '与': 88, '也': 89, '是': 90, '并列': 91}\n"
     ]
    }
   ],
   "source": [
    "print(vocab)"
   ]
  },
  {
   "cell_type": "code",
   "execution_count": 19,
   "metadata": {},
   "outputs": [],
   "source": [
    "num_text_cut = [vocab[word] for word in text_cut_list]"
   ]
  },
  {
   "cell_type": "code",
   "execution_count": 20,
   "metadata": {},
   "outputs": [
    {
     "name": "stdout",
     "output_type": "stream",
     "text": [
      "[24, 0, 25, 11, 26, 27, 28, 29, 30, 31, 2, 32, 3, 33, 34, 2, 12, 13, 14, 0, 1, 35, 36, 8, 6, 12, 13, 4, 2, 37, 15, 38, 0, 1, 9, 3, 39, 40, 41, 0, 42, 1, 43, 15, 44, 16, 4, 2, 45, 17, 46, 47, 48, 7, 5, 0, 49, 6, 10, 50, 18, 0, 6, 1, 51, 16, 7, 5, 3, 52, 0, 19, 1, 53, 20, 8, 0, 2, 21, 1, 22, 5, 4, 54, 55, 0, 56, 57, 6, 58, 59, 60, 61, 23, 0, 19, 62, 63, 64, 17, 1, 22, 5, 21, 65, 66, 67, 4, 68, 23, 69, 0, 2, 70, 71, 1, 18, 5, 0, 72, 73, 0, 10, 74, 75, 76, 1, 2, 11, 9, 77, 0, 78, 79, 80, 81, 82, 3, 7, 83, 14, 10, 84, 85, 0, 1, 86, 20, 8, 0, 87, 9, 88, 7, 89, 90, 91, 3, 4]\n"
     ]
    }
   ],
   "source": [
    "print(num_text_cut)"
   ]
  }
 ],
 "metadata": {
  "kernelspec": {
   "display_name": "Python 3",
   "language": "python",
   "name": "python3"
  },
  "language_info": {
   "codemirror_mode": {
    "name": "ipython",
    "version": 3
   },
   "file_extension": ".py",
   "mimetype": "text/x-python",
   "name": "python",
   "nbconvert_exporter": "python",
   "pygments_lexer": "ipython3",
   "version": "3.7.6"
  }
 },
 "nbformat": 4,
 "nbformat_minor": 1
}
