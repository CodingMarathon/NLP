{
 "cells": [
  {
   "cell_type": "code",
   "execution_count": 1,
   "metadata": {},
   "outputs": [
    {
     "name": "stderr",
     "output_type": "stream",
     "text": [
      "c:\\users\\thushan\\documents\\python_virtualenvs\\tensorflow_venv\\lib\\site-packages\\h5py\\__init__.py:36: FutureWarning: Conversion of the second argument of issubdtype from `float` to `np.floating` is deprecated. In future, it will be treated as `np.float64 == np.dtype(float).type`.\n",
      "  from ._conv import register_converters as _register_converters\n"
     ]
    }
   ],
   "source": [
    "import tensorflow as tf\n",
    "from matplotlib import pylab\n",
    "from tensorflow.examples.tutorials.mnist import input_data\n",
    "import numpy as np\n",
    "\n",
    "# Required for Data downaload and preparation\n",
    "import struct\n",
    "import gzip\n",
    "import os\n",
    "from six.moves.urllib.request import urlretrieve"
   ]
  },
  {
   "cell_type": "markdown",
   "metadata": {},
   "source": [
    "## Defining Hyperparameters\n",
    "\n",
    "Here we define the set of hyperparameters we're going to you in our example. These hyperparameters include `batch_size`, train dataset size (`n_train`), different layers in our CNN (`cnn_layer_ids`). You can find descriptions of each hyperparameter in comments."
   ]
  },
  {
   "cell_type": "code",
   "execution_count": 2,
   "metadata": {
    "collapsed": true
   },
   "outputs": [],
   "source": [
    "batch_size = 100 # This is the typical batch size we've been using\n",
    "image_size = 28 # This is the width/height of a single image\n",
    "\n",
    "# Number of color channels in an image. These are black and white images \n",
    "n_channels = 1 \n",
    "\n",
    "# Number of different digits we have images for (i.e. classes)\n",
    "n_classes = 10\n",
    "\n",
    "n_train = 55000 # Train dataset size\n",
    "n_valid = 5000 # Validation dataset size\n",
    "n_test = 10000 # Test dataset size\n",
    "\n",
    "# Layers in the CNN in the order from input to output\n",
    "cnn_layer_ids = ['conv1','pool1','conv2','pool2','fulcon1','softmax']\n",
    "\n",
    "# Hyperparameters of each layer (e.g. filter size of each convolution layer)\n",
    "layer_hyperparameters = {'conv1':{'weight_shape':[3,3,n_channels,16],'stride':[1,1,1,1],'padding':'SAME'},\n",
    "                         'pool1':{'kernel_shape':[1,3,3,1],'stride':[1,2,2,1],'padding':'SAME'},\n",
    "                         'conv2':{'weight_shape':[3,3,16,32],'stride':[1,1,1,1],'padding':'SAME'},\n",
    "                         'pool2':{'kernel_shape':[1,3,3,1],'stride':[1,2,2,1],'padding':'SAME'},\n",
    "                         'fulcon1':{'weight_shape':[7*7*32,128]},\n",
    "                         'softmax':{'weight_shape':[128,n_classes]}\n",
    "                        }"
   ]
  },
  {
   "cell_type": "markdown",
   "metadata": {},
   "source": [
    "## Defining Inputs and Outputs\n",
    "Here we define input and output placeholders required to process a batch of data. We will use the same placeholders for all training, validation and testing data as all of them are processed in same size batches."
   ]
  },
  {
   "cell_type": "code",
   "execution_count": 3,
   "metadata": {
    "collapsed": true
   },
   "outputs": [],
   "source": [
    "# Inputs (Images) and Outputs (Labels) Placeholders\n",
    "tf_inputs = tf.placeholder(shape=[batch_size, image_size, image_size, n_channels],dtype=tf.float32,name='tf_mnist_images')\n",
    "tf_labels = tf.placeholder(shape=[batch_size, n_classes],dtype=tf.float32,name='tf_mnist_labels')"
   ]
  },
  {
   "cell_type": "markdown",
   "metadata": {},
   "source": [
    "## Defining Model Parameters and Other Variables\n",
    "Here we define various TensorFlow variables required for the following computations. These includes a global step variable (to decay learning rate) and weights and biases of each layer of the CNN."
   ]
  },
  {
   "cell_type": "code",
   "execution_count": 4,
   "metadata": {},
   "outputs": [
    {
     "name": "stdout",
     "output_type": "stream",
     "text": [
      "Variables initialized\n"
     ]
    }
   ],
   "source": [
    "# Global step for decaying the learning rate\n",
    "global_step = tf.Variable(0,trainable=False)\n",
    "\n",
    "# Initializing the variables\n",
    "layer_weights = {}\n",
    "layer_biases = {}\n",
    "\n",
    "for layer_id in cnn_layer_ids:\n",
    "    if 'pool' not in layer_id:\n",
    "        layer_weights[layer_id] = tf.Variable(initial_value=tf.random_normal(shape=layer_hyperparameters[layer_id]['weight_shape'],\n",
    "                                                                          stddev=0.02,dtype=tf.float32),name=layer_id+'_weights')\n",
    "        layer_biases[layer_id] = tf.Variable(initial_value=tf.random_normal(shape=[layer_hyperparameters[layer_id]['weight_shape'][-1]],\n",
    "                                                                              stddev=0.01,dtype=tf.float32),name=layer_id+'_bias')\n",
    "    \n",
    "print('Variables initialized')"
   ]
  },
  {
   "cell_type": "markdown",
   "metadata": {},
   "source": [
    "## Defining Inference of the CNN\n",
    "Here we define the computations starting from input placeholder (`tf_inputs`) and then computing the hidden activations for each of the layers found in `cnn_layer_ids` (i.e. convolution/pooling and fulcon layers) and their respective parameters (`layer_hyperparamters`). At the final layer (`softmax`) we do not apply an activation function as for the rest of the layers, but obtain the unnormalized logit values without any activation function."
   ]
  },
  {
   "cell_type": "code",
   "execution_count": 5,
   "metadata": {},
   "outputs": [
    {
     "name": "stdout",
     "output_type": "stream",
     "text": [
      "Calculated logits\n"
     ]
    }
   ],
   "source": [
    "# Calculating Logits\n",
    "\n",
    "h = tf_inputs\n",
    "for layer_id in cnn_layer_ids:\n",
    "    if 'conv' in layer_id:\n",
    "        # For each convolution layer, compute the output by using conv2d function\n",
    "        # This operation results in a [batch_size, output_height, output_width, out_channels]\n",
    "        # sized 4 dimensional tensor\n",
    "        h = tf.nn.conv2d(h,layer_weights[layer_id],layer_hyperparameters[layer_id]['stride'], \n",
    "                         layer_hyperparameters[layer_id]['padding']) + layer_biases[layer_id]\n",
    "        h = tf.nn.relu(h)\n",
    "\n",
    "    elif 'pool' in layer_id:\n",
    "        # For each pooling layer, compute the output by max pooling\n",
    "        # This operation results in a [batch_size, output_height, output_width, out_channels]\n",
    "        # sized 4 dimensional tensor\n",
    "        h = tf.nn.max_pool(h, layer_hyperparameters[layer_id]['kernel_shape'],layer_hyperparameters[layer_id]['stride'],\n",
    "                          layer_hyperparameters[layer_id]['padding'])\n",
    "\n",
    "    elif layer_id == 'fulcon1':\n",
    "        # At the first fulcon layer we need to reshape the 4 dimensional output to a\n",
    "        # 2 dimensional output to be processed by fully connected layers\n",
    "        # Note this should only done once, before \n",
    "        # computing the output of the first fulcon layer\n",
    "        h = tf.reshape(h,[batch_size,-1])\n",
    "        h = tf.matmul(h,layer_weights[layer_id]) + layer_biases[layer_id]\n",
    "        h = tf.nn.relu(h)\n",
    "\n",
    "    elif layer_id == 'softmax':\n",
    "        # Note that here we do not perform the same reshaping we did for fulcon1\n",
    "        # We only perform the matrix multiplication on previous output\n",
    "        h = tf.matmul(h,layer_weights[layer_id]) + layer_biases[layer_id]\n",
    "\n",
    "print('Calculated logits')\n",
    "tf_logits = h"
   ]
  },
  {
   "cell_type": "markdown",
   "metadata": {},
   "source": [
    "## Defining Loss\n",
    "We use softmax cross entropy loss to optimize the parameters of the model."
   ]
  },
  {
   "cell_type": "code",
   "execution_count": 6,
   "metadata": {},
   "outputs": [
    {
     "name": "stdout",
     "output_type": "stream",
     "text": [
      "Loss defined\n"
     ]
    }
   ],
   "source": [
    "# Calculating the softmax cross entropy loss with the computed logits and true labels (one hot encoded)\n",
    "tf_loss = tf.nn.softmax_cross_entropy_with_logits_v2(logits=tf_logits,labels=tf_labels)\n",
    "print('Loss defined')"
   ]
  },
  {
   "cell_type": "markdown",
   "metadata": {},
   "source": [
    "## Model Parameter Optimizer\n",
    "We define an exponentially decaying learning rate and an optimizer to optimize the parameters."
   ]
  },
  {
   "cell_type": "code",
   "execution_count": 7,
   "metadata": {},
   "outputs": [
    {
     "name": "stdout",
     "output_type": "stream",
     "text": [
      "Loss minimization defined\n"
     ]
    }
   ],
   "source": [
    "# Optimization\n",
    "\n",
    "# Here we define the function to decay the learning rate exponentially. \n",
    "# Everytime the global step increases the learning rate decreases\n",
    "tf_learning_rate = tf.train.exponential_decay(learning_rate=0.001,global_step=global_step,decay_rate=0.5,decay_steps=1,staircase=True)\n",
    "tf_loss_minimize = tf.train.RMSPropOptimizer(learning_rate=tf_learning_rate, momentum=0.9).minimize(tf_loss)\n",
    "print('Loss minimization defined')"
   ]
  },
  {
   "cell_type": "markdown",
   "metadata": {},
   "source": [
    "## Defining Predictions\n",
    "We get the predictiosn out by applying a softmax activation to the logits. Additionally we define a global step increment function and will be increase every time the validation accuracy plateus."
   ]
  },
  {
   "cell_type": "code",
   "execution_count": 8,
   "metadata": {},
   "outputs": [
    {
     "name": "stdout",
     "output_type": "stream",
     "text": [
      "Prediction defined\n"
     ]
    }
   ],
   "source": [
    "tf_predictions = tf.nn.softmax(tf_logits)\n",
    "print('Prediction defined')\n",
    "\n",
    "tf_tic_toc = tf.assign(global_step, global_step + 1)\n"
   ]
  },
  {
   "cell_type": "markdown",
   "metadata": {},
   "source": [
    "## Define Accuracy \n",
    "A simple function to calculate accuracy for a given set of labels and predictions."
   ]
  },
  {
   "cell_type": "code",
   "execution_count": 9,
   "metadata": {
    "collapsed": true
   },
   "outputs": [],
   "source": [
    "def accuracy(predictions,labels):\n",
    "    '''\n",
    "    Accuracy of a given set of predictions of size (N x n_classes) and\n",
    "    labels of size (N x n_classes)\n",
    "    '''\n",
    "        \n",
    "    return np.sum(np.argmax(predictions,axis=1)==np.argmax(labels,axis=1))*100.0/labels.shape[0]"
   ]
  },
  {
   "cell_type": "markdown",
   "metadata": {},
   "source": [
    "## Lolading Data\n",
    "\n",
    "Here we download (if needed) the MNIST dataset and, perform reshaping and normalization. Also we conver the labels to one hot encoded vectors."
   ]
  },
  {
   "cell_type": "code",
   "execution_count": 42,
   "metadata": {},
   "outputs": [
    {
     "name": "stdout",
     "output_type": "stream",
     "text": [
      "Found and verified train-images-idx3-ubyte.gz\n",
      "Found and verified train-labels-idx1-ubyte.gz\n",
      "Found and verified t10k-images-idx3-ubyte.gz\n",
      "Found and verified t10k-labels-idx1-ubyte.gz\n",
      "\n",
      "Reading files train-images-idx3-ubyte.gz and train-labels-idx1-ubyte.gz\n",
      "60000 28 28\n",
      "(Images) Returned a tensor of shape  (60000, 28, 28, 1)\n",
      "(Labels) Returned a tensor of shape: 60000\n",
      "Sample labels:  [5 0 4 1 9 2 1 3 1 4]\n",
      "\n",
      "Reading files t10k-images-idx3-ubyte.gz and t10k-labels-idx1-ubyte.gz\n",
      "10000 28 28\n",
      "(Images) Returned a tensor of shape  (10000, 28, 28, 1)\n",
      "(Labels) Returned a tensor of shape: 10000\n",
      "Sample labels:  [7 2 1 0 4 1 4 9 5 9]\n",
      "\n",
      "Train size:  55000\n",
      "\n",
      "Valid size:  5000\n",
      "\n",
      "Test size:  10000\n"
     ]
    }
   ],
   "source": [
    "def maybe_download(url, filename, expected_bytes, force=False):\n",
    "  \"\"\"Download a file if not present, and make sure it's the right size.\"\"\"\n",
    "  if force or not os.path.exists(filename):\n",
    "    print('Attempting to download:', filename) \n",
    "    filename, _ = urlretrieve(url + filename, filename)\n",
    "    print('\\nDownload Complete!')\n",
    "  statinfo = os.stat(filename)\n",
    "  if statinfo.st_size == expected_bytes:\n",
    "    print('Found and verified', filename)\n",
    "  else:\n",
    "    raise Exception(\n",
    "      'Failed to verify ' + filename + '. Can you get to it with a browser?')\n",
    "  return filename\n",
    "\n",
    "\n",
    "def read_mnist(fname_img, fname_lbl, one_hot=False):\n",
    "    print('\\nReading files %s and %s'%(fname_img, fname_lbl))\n",
    "    \n",
    "    # Processing images\n",
    "    with gzip.open(fname_img) as fimg:        \n",
    "        magic, num, rows, cols = struct.unpack(\">IIII\", fimg.read(16))\n",
    "        print(num,rows,cols)\n",
    "        img = (np.frombuffer(fimg.read(num*rows*cols), dtype=np.uint8).reshape(num, rows, cols,1)).astype(np.float32)\n",
    "        print('(Images) Returned a tensor of shape ',img.shape)\n",
    "        \n",
    "        #img = (img - np.mean(img)) /np.std(img)\n",
    "        img *= 1.0 / 255.0\n",
    "    \n",
    "    # Processing labels\n",
    "    with gzip.open(fname_lbl) as flbl:\n",
    "        # flbl.read(8) reads upto 8 bytes\n",
    "        magic, num = struct.unpack(\">II\", flbl.read(8))               \n",
    "        lbl = np.frombuffer(flbl.read(num), dtype=np.int8)\n",
    "        if one_hot:\n",
    "            one_hot_lbl = np.zeros(shape=(num,10),dtype=np.float32)\n",
    "            one_hot_lbl[np.arange(num),lbl] = 1.0\n",
    "        print('(Labels) Returned a tensor of shape: %s'%lbl.shape)\n",
    "        print('Sample labels: ',lbl[:10])\n",
    "    \n",
    "    if not one_hot:\n",
    "        return img, lbl\n",
    "    else:\n",
    "        return img, one_hot_lbl\n",
    "    \n",
    "    \n",
    "# Download data if needed\n",
    "url = 'http://yann.lecun.com/exdb/mnist/'\n",
    "# training data\n",
    "maybe_download(url,'train-images-idx3-ubyte.gz',9912422)\n",
    "maybe_download(url,'train-labels-idx1-ubyte.gz',28881)\n",
    "# testing data\n",
    "maybe_download(url,'t10k-images-idx3-ubyte.gz',1648877)\n",
    "maybe_download(url,'t10k-labels-idx1-ubyte.gz',4542)\n",
    "\n",
    "# Read the training and testing data \n",
    "train_inputs, train_labels = read_mnist('train-images-idx3-ubyte.gz', 'train-labels-idx1-ubyte.gz',True)\n",
    "test_inputs, test_labels = read_mnist('t10k-images-idx3-ubyte.gz', 't10k-labels-idx1-ubyte.gz',True)\n",
    "\n",
    "valid_inputs, valid_labels = train_inputs[-n_valid:,:,:,:], train_labels[-n_valid:,:]\n",
    "train_inputs, train_labels = train_inputs[:-n_valid,:,:,:], train_labels[:-n_valid,:]\n",
    "\n",
    "print('\\nTrain size: ', train_inputs.shape[0])\n",
    "print('\\nValid size: ', valid_inputs.shape[0])\n",
    "print('\\nTest size: ', test_inputs.shape[0])"
   ]
  },
  {
   "cell_type": "markdown",
   "metadata": {},
   "source": [
    "## Data Generators for MNIST\n",
    "\n",
    "Here we have the logic to iterate through each training, validation and testing datasets, in `batch_size` size strides."
   ]
  },
  {
   "cell_type": "code",
   "execution_count": 71,
   "metadata": {
    "collapsed": true
   },
   "outputs": [],
   "source": [
    "train_index, valid_index, test_index = 0,0,0\n",
    "\n",
    "def get_train_batch(images, labels, batch_size):\n",
    "    global train_index\n",
    "    batch = images[train_index:train_index+batch_size,:,:,:], labels[train_index:train_index+batch_size,:]\n",
    "    train_index = (train_index + batch_size)%(images.shape[0] - batch_size)\n",
    "    return batch\n",
    "\n",
    "def get_valid_batch(images, labels, batch_size):\n",
    "    global valid_index\n",
    "    batch = images[valid_index:valid_index+batch_size,:,:,:], labels[valid_index:valid_index+batch_size,:]\n",
    "    valid_index = (valid_index + batch_size)%(images.shape[0] - batch_size)\n",
    "    return batch\n",
    "\n",
    "def get_test_batch(images, labels, batch_size):\n",
    "    global test_index\n",
    "    batch = images[test_index:test_index+batch_size,:,:,:], labels[test_index:test_index+batch_size,:]\n",
    "    test_index = (test_index + batch_size)%(images.shape[0] - batch_size)\n",
    "    return batch"
   ]
  },
  {
   "cell_type": "markdown",
   "metadata": {},
   "source": [
    "## Visualizing MNIST Results\n",
    "Here we define a function to collect correctly and incorrectly classified samples to visualize later. Visualizing such samples will help us to understand why the CNN incorrectly classified certain samples."
   ]
  },
  {
   "cell_type": "code",
   "execution_count": 74,
   "metadata": {
    "collapsed": true
   },
   "outputs": [],
   "source": [
    "# Makes sure we only collect 10 samples for each \n",
    "correct_fill_index, incorrect_fill_index = 0,0\n",
    "\n",
    "# Visualization purposes\n",
    "correctly_predicted = np.empty(shape=(10,28,28,1),dtype=np.float32)\n",
    "correct_predictions = np.empty(shape=(10,n_classes),dtype=np.float32)\n",
    "incorrectly_predicted = np.empty(shape=(10,28,28,1),dtype=np.float32)\n",
    "incorrect_predictions = np.empty(shape=(10,n_classes),dtype=np.float32)\n",
    "\n",
    "def collect_samples(test_batch_predictions,test_images, test_labels):\n",
    "    global correctly_predicted, correct_predictions\n",
    "    global incorrectly_predicted, incorrect_predictions\n",
    "    global correct_fill_index, incorrect_fill_index\n",
    "    \n",
    "    correct_indices = np.where(np.argmax(test_batch_predictions,axis=1)==np.argmax(test_labels,axis=1))[0]\n",
    "    incorrect_indices = np.where(np.argmax(test_batch_predictions,axis=1)!=np.argmax(test_labels,axis=1))[0]\n",
    "    \n",
    "    if correct_indices.size>0 and correct_fill_index<10:\n",
    "        print('\\nCollecting Correctly Predicted Samples')\n",
    "        chosen_index = np.random.choice(correct_indices)\n",
    "        correctly_predicted[correct_fill_index,:,:,:]=test_images[chosen_index,:].reshape(1,image_size,image_size,n_channels)\n",
    "        correct_predictions[correct_fill_index,:]=test_batch_predictions[chosen_index,:]\n",
    "        correct_fill_index += 1\n",
    "\n",
    "    if incorrect_indices.size>0 and incorrect_fill_index<10:\n",
    "        print('Collecting InCorrectly Predicted Samples')\n",
    "        chosen_index = np.random.choice(incorrect_indices)\n",
    "        incorrectly_predicted[incorrect_fill_index,:,:,:]=test_images[chosen_index,:].reshape(1,image_size,image_size,n_channels)\n",
    "        incorrect_predictions[incorrect_fill_index,:]=test_batch_predictions[chosen_index,:]\n",
    "        incorrect_fill_index += 1"
   ]
  },
  {
   "cell_type": "markdown",
   "metadata": {},
   "source": [
    "## Running MNIST Classification \n",
    "Here we train our CNN on MNIST data for `n_epochs` epochs. Each epoch we train the CNN with the full training dataset. Then we calculate the validation accuracy, according to which we decay the learning rate. Finally, each epoch we calculate the test accuracy which is computed using an independent test set. This code should run under 10 minutes if you run on a decent GPU and should reach to a test accuracy of about ~95%"
   ]
  },
  {
   "cell_type": "code",
   "execution_count": 75,
   "metadata": {},
   "outputs": [
    {
     "name": "stderr",
     "output_type": "stream",
     "text": [
      "c:\\users\\thushan\\documents\\python_virtualenvs\\tensorflow_venv\\lib\\site-packages\\tensorflow\\python\\client\\session.py:1711: UserWarning: An interactive session is already active. This can cause out-of-memory errors in some cases. You must explicitly call `InteractiveSession.close()` to release resources held by the other session(s).\n",
      "  warnings.warn('An interactive session is already active. This can '\n"
     ]
    },
    {
     "name": "stdout",
     "output_type": "stream",
     "text": [
      "Average loss in epoch 0: 0.36967\n",
      "\tAverage Valid Accuracy in epoch 0: 98.00000\n",
      "\tAverage Test Accuracy in epoch 0: 97.84000\n",
      "\n",
      "Average loss in epoch 1: 0.08493\n",
      "\tAverage Valid Accuracy in epoch 1: 97.62000\n",
      "\tAverage Test Accuracy in epoch 1: 97.26000\n",
      "\n",
      "Average loss in epoch 2: 0.07174\n",
      "\tAverage Valid Accuracy in epoch 2: 98.40000\n",
      "\tAverage Test Accuracy in epoch 2: 97.97000\n",
      "\n",
      "Average loss in epoch 3: 0.06057\n",
      "\tAverage Valid Accuracy in epoch 3: 98.56000\n",
      "\tAverage Test Accuracy in epoch 3: 98.40000\n",
      "\n",
      "Average loss in epoch 4: 0.05895\n",
      "\tAverage Valid Accuracy in epoch 4: 98.30000\n",
      "\tAverage Test Accuracy in epoch 4: 98.17000\n",
      "\n",
      "Average loss in epoch 5: 0.05891\n",
      "\tAverage Valid Accuracy in epoch 5: 98.58000\n",
      "\tAverage Test Accuracy in epoch 5: 98.42000\n",
      "\n",
      "Average loss in epoch 6: 0.06474\n",
      "\tAverage Valid Accuracy in epoch 6: 98.52000\n",
      "\n",
      "Decreasing Learning rate\n",
      "\n",
      "\tAverage Test Accuracy in epoch 6: 98.27000\n",
      "\n",
      "Average loss in epoch 7: 0.03413\n",
      "\tAverage Valid Accuracy in epoch 7: 98.72000\n",
      "\tAverage Test Accuracy in epoch 7: 98.64000\n",
      "\n",
      "Average loss in epoch 8: 0.02893\n",
      "\tAverage Valid Accuracy in epoch 8: 98.64000\n",
      "\tAverage Test Accuracy in epoch 8: 98.56000\n",
      "\n",
      "Average loss in epoch 9: 0.02410\n",
      "\tAverage Valid Accuracy in epoch 9: 98.80000\n",
      "\tAverage Test Accuracy in epoch 9: 98.71000\n",
      "\n",
      "Average loss in epoch 10: 0.02168\n",
      "\tAverage Valid Accuracy in epoch 10: 99.00000\n",
      "\tAverage Test Accuracy in epoch 10: 98.72000\n",
      "\n",
      "Average loss in epoch 11: 0.02346\n",
      "\tAverage Valid Accuracy in epoch 11: 98.64000\n",
      "\tAverage Test Accuracy in epoch 11: 98.44000\n",
      "\n",
      "Average loss in epoch 12: 0.02165\n",
      "\tAverage Valid Accuracy in epoch 12: 98.84000\n",
      "\n",
      "Decreasing Learning rate\n",
      "\n",
      "\tAverage Test Accuracy in epoch 12: 98.65000\n",
      "\n",
      "Average loss in epoch 13: 0.01364\n",
      "\tAverage Valid Accuracy in epoch 13: 99.06000\n",
      "\tAverage Test Accuracy in epoch 13: 98.94000\n",
      "\n",
      "Average loss in epoch 14: 0.01007\n",
      "\tAverage Valid Accuracy in epoch 14: 99.08000\n",
      "\tAverage Test Accuracy in epoch 14: 98.89000\n",
      "\n",
      "Average loss in epoch 15: 0.00914\n",
      "\tAverage Valid Accuracy in epoch 15: 99.04000\n",
      "\tAverage Test Accuracy in epoch 15: 99.08000\n",
      "\n",
      "Average loss in epoch 16: 0.00784\n",
      "\tAverage Valid Accuracy in epoch 16: 99.04000\n",
      "\tAverage Test Accuracy in epoch 16: 99.04000\n",
      "\n",
      "Average loss in epoch 17: 0.00729\n",
      "\tAverage Valid Accuracy in epoch 17: 99.18000\n",
      "\tAverage Test Accuracy in epoch 17: 98.93000\n",
      "\n",
      "Average loss in epoch 18: 0.00605\n",
      "\tAverage Valid Accuracy in epoch 18: 99.06000\n",
      "\n",
      "Decreasing Learning rate\n",
      "\n",
      "\tAverage Test Accuracy in epoch 18: 98.91000\n",
      "\n",
      "Average loss in epoch 19: 0.00434\n",
      "\tAverage Valid Accuracy in epoch 19: 99.16000\n",
      "\tAverage Test Accuracy in epoch 19: 99.12000\n",
      "\n",
      "Average loss in epoch 20: 0.00362\n",
      "\tAverage Valid Accuracy in epoch 20: 99.16000\n",
      "\tAverage Test Accuracy in epoch 20: 99.02000\n",
      "\n",
      "Average loss in epoch 21: 0.00315\n",
      "\tAverage Valid Accuracy in epoch 21: 99.14000\n",
      "\n",
      "Decreasing Learning rate\n",
      "\n",
      "\tAverage Test Accuracy in epoch 21: 99.07000\n",
      "\n",
      "Average loss in epoch 22: 0.00275\n",
      "\tAverage Valid Accuracy in epoch 22: 98.98000\n",
      "\tAverage Test Accuracy in epoch 22: 99.03000\n",
      "\n",
      "Average loss in epoch 23: 0.00218\n",
      "\tAverage Valid Accuracy in epoch 23: 99.14000\n",
      "\tAverage Test Accuracy in epoch 23: 99.09000\n",
      "\n",
      "Average loss in epoch 24: 0.00211\n",
      "\tAverage Valid Accuracy in epoch 24: 99.16000\n",
      "\n",
      "Decreasing Learning rate\n",
      "\n",
      "\n",
      "Collecting Correctly Predicted Samples\n",
      "\n",
      "Collecting Correctly Predicted Samples\n",
      "\n",
      "Collecting Correctly Predicted Samples\n",
      "\n",
      "Collecting Correctly Predicted Samples\n",
      "Collecting InCorrectly Predicted Samples\n",
      "\n",
      "Collecting Correctly Predicted Samples\n",
      "\n",
      "Collecting Correctly Predicted Samples\n",
      "\n",
      "Collecting Correctly Predicted Samples\n",
      "\n",
      "Collecting Correctly Predicted Samples\n",
      "Collecting InCorrectly Predicted Samples\n",
      "\n",
      "Collecting Correctly Predicted Samples\n",
      "\n",
      "Collecting Correctly Predicted Samples\n",
      "Collecting InCorrectly Predicted Samples\n",
      "Collecting InCorrectly Predicted Samples\n",
      "Collecting InCorrectly Predicted Samples\n",
      "Collecting InCorrectly Predicted Samples\n",
      "Collecting InCorrectly Predicted Samples\n",
      "Collecting InCorrectly Predicted Samples\n",
      "Collecting InCorrectly Predicted Samples\n",
      "Collecting InCorrectly Predicted Samples\n",
      "\tAverage Test Accuracy in epoch 24: 99.11000\n",
      "\n"
     ]
    }
   ],
   "source": [
    "# Parameters related to learning rate decay\n",
    "# counts how many times the validation accuracy has not increased consecutively for\n",
    "v_acc_not_increased_for = 0 \n",
    "# if the above count is above this value, decrease the learning rate\n",
    "v_acc_threshold = 3\n",
    "# currently recorded best validation accuracy\n",
    "max_v_acc = 0.0\n",
    "\n",
    "config = tf.ConfigProto(allow_soft_placement=True)\n",
    "# Good practice to use this to avoid any surprising errors thrown by TensorFlow\n",
    "config.gpu_options.allow_growth = True \n",
    "config.gpu_options.per_process_gpu_memory_fraction = 0.9 # Making sure Tensorflow doesn't overflow the GPU\n",
    "\n",
    "n_epochs = 25 # Number of epochs the training runs for\n",
    "\n",
    "session = tf.InteractiveSession(config=config)\n",
    "# Initialize all variables\n",
    "tf.global_variables_initializer().run()\n",
    "\n",
    "# Run training loop\n",
    "\n",
    "for epoch in range(n_epochs):\n",
    "    loss_per_epoch = []\n",
    "    \n",
    "    # Training phase. We train with all training data \n",
    "    # processing one batch at a time\n",
    "    for i in range(n_train//batch_size):\n",
    "        # Get the next batch of MNIST dataset\n",
    "        batch = get_train_batch(train_inputs, train_labels, batch_size)   \n",
    "        # Run TensorFlow opeartions\n",
    "        l,_ = session.run([tf_loss,tf_loss_minimize],feed_dict={tf_inputs: batch[0].reshape(batch_size,image_size,image_size,n_channels),\n",
    "                                  tf_labels: batch[1]})\n",
    "        # Add the loss value to a list\n",
    "        loss_per_epoch.append(l)\n",
    "    print('Average loss in epoch %d: %.5f'%(epoch,np.mean(loss_per_epoch)))    \n",
    "    \n",
    "    # Validation phase. We compute validation accuracy\n",
    "    # processing one batch at a time\n",
    "    valid_accuracy_per_epoch = []\n",
    "    for i in range(n_valid//batch_size):\n",
    "        # Get the next validation data batch\n",
    "        vbatch_images,vbatch_labels = get_valid_batch(valid_inputs, valid_labels, batch_size)\n",
    "        # Compute validation predictions\n",
    "        valid_batch_predictions = session.run(\n",
    "            tf_predictions,feed_dict={tf_inputs: vbatch_images}\n",
    "        )\n",
    "        # Compute and add the validation accuracy to a python list\n",
    "        valid_accuracy_per_epoch.append(accuracy(valid_batch_predictions,vbatch_labels))\n",
    "    \n",
    "    # Compute and print average validation accuracy\n",
    "    mean_v_acc = np.mean(valid_accuracy_per_epoch)\n",
    "    print('\\tAverage Valid Accuracy in epoch %d: %.5f'%(epoch,np.mean(valid_accuracy_per_epoch)))\n",
    "    \n",
    "    # Learning rate decay logic\n",
    "    if mean_v_acc > max_v_acc:\n",
    "        max_v_acc = mean_v_acc\n",
    "    else:\n",
    "        v_acc_not_increased_for += 1\n",
    "    \n",
    "    # Time to decrease learning rate\n",
    "    if v_acc_not_increased_for >= v_acc_threshold:\n",
    "        print('\\nDecreasing Learning rate\\n')\n",
    "        session.run(tf_tic_toc) # Increase global_step\n",
    "        v_acc_not_increased_for = 0\n",
    "        \n",
    "    # Testing phase. We compute test accuracy\n",
    "    # processing one batch at a time\n",
    "    accuracy_per_epoch = []\n",
    "    for i in range(n_test//batch_size):\n",
    "        btest_images, btest_labels = get_test_batch(test_inputs, test_labels, batch_size)\n",
    "        test_batch_predictions = session.run(tf_predictions,feed_dict={tf_inputs: btest_images})\n",
    "        accuracy_per_epoch.append(accuracy(test_batch_predictions,btest_labels))\n",
    "        \n",
    "        # Collect samples for visualization only in the last epoch\n",
    "        if epoch==n_epochs-1:\n",
    "            collect_samples(test_batch_predictions, btest_images, btest_labels)\n",
    "        \n",
    "    print('\\tAverage Test Accuracy in epoch %d: %.5f\\n'%(epoch,np.mean(accuracy_per_epoch)))\n",
    "session.close()"
   ]
  },
  {
   "cell_type": "markdown",
   "metadata": {},
   "source": [
    "## Visualizing Predictions\n",
    "Let us see how when our CNN did when it comes to predictions\n"
   ]
  },
  {
   "cell_type": "code",
   "execution_count": 76,
   "metadata": {},
   "outputs": [
    {
     "data": {
      "image/png": "[encoded data removed]",
      "text/plain": [
       "<matplotlib.figure.Figure at 0x19861442f60>"
      ]
     },
     "metadata": {},
     "output_type": "display_data"
    }
   ],
   "source": [
    "# Defining the plot related settings\n",
    "pylab.figure(figsize=(25,20))  # in inches\n",
    "width=0.5 # Width of a bar in the barchart\n",
    "padding = 0.05 # Padding between two bars\n",
    "labels = list(range(0,10)) # Class labels\n",
    "\n",
    "# Defining X axis\n",
    "x_axis = np.arange(0,10)\n",
    "\n",
    "# We create 4 rows and 7 column set of subplots\n",
    "\n",
    "# We choose these to put the titles in\n",
    "# First row middle\n",
    "pylab.subplot(4, 7, 4)\n",
    "pylab.title('Correctly Classified Samples',fontsize=24)\n",
    "\n",
    "# Second row middle\n",
    "pylab.subplot(4, 7,11)\n",
    "pylab.title('Softmax Predictions for Correctly Classified Samples',fontsize=24)\n",
    "\n",
    "# For 7 steps\n",
    "for sub_i in range(7):\n",
    "    # Draw the top row (digit images)\n",
    "    pylab.subplot(4, 7, sub_i + 1)        \n",
    "    pylab.imshow(np.squeeze(correctly_predicted[sub_i]),cmap='gray')    \n",
    "    pylab.axis('off')\n",
    "    \n",
    "    # Draw the second row (prediction bar chart)\n",
    "    pylab.subplot(4, 7, 7 + sub_i + 1)        \n",
    "    pylab.bar(x_axis + padding, correct_predictions[sub_i], width)\n",
    "    pylab.ylim([0.0,1.0])    \n",
    "    pylab.xticks(x_axis, labels)\n",
    "\n",
    "# Set titles for the third and fourth rows\n",
    "pylab.subplot(4, 7, 18)\n",
    "pylab.title('Incorrectly Classified Samples',fontsize=26)\n",
    "pylab.subplot(4, 7,25)\n",
    "pylab.title('Softmax Predictions for Incorrectly Classified Samples',fontsize=24)\n",
    "\n",
    "# For 7 steps\n",
    "for sub_i in range(7):\n",
    "    # Draw the third row (incorrectly classified digit images)\n",
    "    pylab.subplot(4, 7, 14 + sub_i + 1)\n",
    "    pylab.imshow(np.squeeze(incorrectly_predicted[sub_i]),cmap='gray')\n",
    "    pylab.axis('off')\n",
    "    \n",
    "    # Draw the fourth row (incorrect predictions bar chart)\n",
    "    pylab.subplot(4, 7, 21 + sub_i + 1)        \n",
    "    pylab.bar(x_axis + padding, incorrect_predictions[sub_i], width)\n",
    "    pylab.ylim([0.0,1.0])\n",
    "    pylab.xticks(x_axis, labels)\n",
    "\n",
    "# Save the figure\n",
    "pylab.savefig('mnist_results.png')\n",
    "pylab.show()\n"
   ]
  },
  {
   "cell_type": "code",
   "execution_count": null,
   "metadata": {
    "collapsed": true
   },
   "outputs": [],
   "source": []
  }
 ],
 "metadata": {
  "kernelspec": {
   "display_name": "Python 3",
   "language": "python",
   "name": "python3"
  },
  "language_info": {
   "codemirror_mode": {
    "name": "ipython",
    "version": 3
   },
   "file_extension": ".py",
   "mimetype": "text/x-python",
   "name": "python",
   "nbconvert_exporter": "python",
   "pygments_lexer": "ipython3",
   "version": "3.7.6"
  }
 },
 "nbformat": 4,
 "nbformat_minor": 2
}
